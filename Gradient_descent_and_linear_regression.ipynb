{
  "cells": [
    {
      "cell_type": "markdown",
      "metadata": {
        "id": "view-in-github",
        "colab_type": "text"
      },
      "source": [
        "<a href=\"https://colab.research.google.com/github/erkamalkumar/Pytorch-from-scratch/blob/main/Gradient_descent_and_linear_regression.ipynb\" target=\"_parent\"><img src=\"https://colab.research.google.com/assets/colab-badge.svg\" alt=\"Open In Colab\"/></a>"
      ]
    },
    {
      "cell_type": "code",
      "execution_count": 2,
      "metadata": {
        "id": "6VK2qMDgfp9V"
      },
      "outputs": [],
      "source": [
        "import numpy as np\n",
        "import torch"
      ]
    },
    {
      "cell_type": "code",
      "execution_count": 3,
      "metadata": {
        "id": "7wvsq2B6fp9V"
      },
      "outputs": [],
      "source": [
        "# Input (temp, rainfall, humidity)\n",
        "inputs = np.array([[74, 68, 44], \n",
        "                   [92, 89, 65], \n",
        "                   [88, 135, 59], \n",
        "                   [103, 44, 38], \n",
        "                   [70, 97, 71]], dtype='float32')\n",
        "\n",
        "# Targets (bananas, pineapples)\n",
        "targets = np.array([[57, 71], \n",
        "                    [82, 102], \n",
        "                    [120, 134], \n",
        "                    [23, 38], \n",
        "                    [104, 120]], dtype='float32')"
      ]
    },
    {
      "cell_type": "code",
      "execution_count": 4,
      "metadata": {
        "colab": {
          "base_uri": "https://localhost:8080/"
        },
        "id": "AK0NTOITfp9W",
        "outputId": "366861cc-4d66-40e2-8999-ef10caa3c3b6"
      },
      "outputs": [
        {
          "output_type": "stream",
          "name": "stdout",
          "text": [
            "tensor([[ 74.,  68.,  44.],\n",
            "        [ 92.,  89.,  65.],\n",
            "        [ 88., 135.,  59.],\n",
            "        [103.,  44.,  38.],\n",
            "        [ 70.,  97.,  71.]])\n",
            "tensor([[ 57.,  71.],\n",
            "        [ 82., 102.],\n",
            "        [120., 134.],\n",
            "        [ 23.,  38.],\n",
            "        [104., 120.]])\n"
          ]
        }
      ],
      "source": [
        "# Convert inputs and targets to tensors\n",
        "inputs = torch.from_numpy(inputs)\n",
        "targets = torch.from_numpy(targets)\n",
        "print(inputs)\n",
        "print(targets)"
      ]
    },
    {
      "cell_type": "markdown",
      "metadata": {
        "id": "nhXtkNsyfp9W"
      },
      "source": [
        "## Linear regression model from scratch\n",
        "\n",
        "The weights and biases (`w11, w12,... w23, b1 & b2`) can also be represented as matrices, initialized as random values. The first row of `w` and the first element of `b` are used to predict the first target variable, i.e., yield of bananas, and similarly, the second for pineapples."
      ]
    },
    {
      "cell_type": "code",
      "execution_count": 5,
      "metadata": {
        "colab": {
          "base_uri": "https://localhost:8080/"
        },
        "id": "9sprYuIufp9W",
        "outputId": "1f320326-74fd-42dc-aa97-1ab464897b6f"
      },
      "outputs": [
        {
          "output_type": "stream",
          "name": "stdout",
          "text": [
            "tensor([[ 2.8233,  1.3696,  0.6327],\n",
            "        [ 1.4846, -2.7422, -0.0639]], requires_grad=True)\n",
            "tensor([ 1.6710, -0.2530], requires_grad=True)\n"
          ]
        }
      ],
      "source": [
        "# Weights and biases\n",
        "w = torch.randn(2, 3, requires_grad=True)\n",
        "b = torch.randn(2, requires_grad=True)\n",
        "print(w)\n",
        "print(b)"
      ]
    },
    {
      "cell_type": "markdown",
      "metadata": {
        "id": "YNbBRFqvfp9W"
      },
      "source": [
        "`torch.randn` creates a tensor with the given shape, with elements picked randomly from a [normal distribution](https://en.wikipedia.org/wiki/Normal_distribution) with mean 0 and standard deviation 1.\n",
        "\n",
        "Our *model* is simply a function that performs a matrix multiplication of the `inputs` and the weights `w` (transposed) and adds the bias `b` (replicated for each observation).\n",
        "\n",
        "![matrix-mult](https://i.imgur.com/WGXLFvA.png)\n",
        "\n",
        "We can define the model as follows:"
      ]
    },
    {
      "cell_type": "code",
      "execution_count": 6,
      "metadata": {
        "id": "jveaD9TLfp9X"
      },
      "outputs": [],
      "source": [
        "def model(x):\n",
        "    return x @ w.t() + b"
      ]
    },
    {
      "cell_type": "markdown",
      "metadata": {
        "id": "QDS6Q702fp9X"
      },
      "source": [
        "`@` represents matrix multiplication in PyTorch, and the `.t` method returns the transpose of a tensor.\n",
        "\n",
        "The matrix obtained by passing the input data into the model is a set of predictions for the target variables."
      ]
    },
    {
      "cell_type": "code",
      "execution_count": 7,
      "metadata": {
        "colab": {
          "base_uri": "https://localhost:8080/"
        },
        "id": "bR1_vpl3fp9X",
        "outputId": "b66e091a-3fb8-484b-d133-2506535f40de"
      },
      "outputs": [
        {
          "output_type": "stream",
          "name": "stdout",
          "text": [
            "tensor([[ 331.5681,  -79.6739],\n",
            "        [ 424.4366, -111.8796],\n",
            "        [ 472.3499, -243.5766],\n",
            "        [ 376.7755,   29.5774],\n",
            "        [ 377.0780, -166.8629]], grad_fn=<AddBackward0>)\n"
          ]
        }
      ],
      "source": [
        "# Generate predictions\n",
        "preds = model(inputs)\n",
        "print(preds)"
      ]
    },
    {
      "cell_type": "markdown",
      "metadata": {
        "id": "Ew9m2K5Efp9X"
      },
      "source": [
        "Let's compare the predictions of our model with the actual targets."
      ]
    },
    {
      "cell_type": "code",
      "execution_count": 8,
      "metadata": {
        "colab": {
          "base_uri": "https://localhost:8080/"
        },
        "id": "EiR2TZIZfp9X",
        "outputId": "55418577-fed1-4eeb-d04a-866ae1dd82b7"
      },
      "outputs": [
        {
          "output_type": "stream",
          "name": "stdout",
          "text": [
            "tensor([[ 57.,  71.],\n",
            "        [ 82., 102.],\n",
            "        [120., 134.],\n",
            "        [ 23.,  38.],\n",
            "        [104., 120.]])\n"
          ]
        }
      ],
      "source": [
        "# Compare with targets\n",
        "print(targets)"
      ]
    },
    {
      "cell_type": "markdown",
      "metadata": {
        "id": "IxIC4BRffp9X"
      },
      "source": [
        "You can see a big difference between our model's predictions and the actual targets because we've initialized our model with random weights and biases. Obviously, we can't expect a randomly initialized model to *just work*."
      ]
    },
    {
      "cell_type": "markdown",
      "metadata": {
        "id": "zjdnzvQXfp9X"
      },
      "source": [
        "## Loss function\n",
        "\n",
        "Before we improve our model, we need a way to evaluate how well our model is performing. We can compare the model's predictions with the actual targets using the following method:\n",
        "\n",
        "* Calculate the difference between the two matrices (`preds` and `targets`).\n",
        "* Square all elements of the difference matrix to remove negative values.\n",
        "* Calculate the average of the elements in the resulting matrix.\n",
        "\n",
        "The result is a single number, known as the **mean squared error** (MSE)."
      ]
    },
    {
      "cell_type": "code",
      "execution_count": 9,
      "metadata": {
        "id": "NpcTYbTDfp9X"
      },
      "outputs": [],
      "source": [
        "# MSE loss\n",
        "def mse(t1, t2):\n",
        "    diff = t1 - t2\n",
        "    return torch.sum(diff * diff) / diff.numel()"
      ]
    },
    {
      "cell_type": "markdown",
      "metadata": {
        "id": "z1n29QeSfp9X"
      },
      "source": [
        "`torch.sum` returns the sum of all the elements in a tensor. The `.numel` method of a tensor returns the number of elements in a tensor. Let's compute the mean squared error for the current predictions of our model."
      ]
    },
    {
      "cell_type": "code",
      "execution_count": 10,
      "metadata": {
        "colab": {
          "base_uri": "https://localhost:8080/"
        },
        "id": "O8qXjGuzfp9X",
        "outputId": "2dc4e91b-a3b7-416a-bb2e-cca04ef5aff9"
      },
      "outputs": [
        {
          "output_type": "stream",
          "name": "stdout",
          "text": [
            "tensor(80990.2188, grad_fn=<DivBackward0>)\n"
          ]
        }
      ],
      "source": [
        "# Compute loss\n",
        "loss = mse(preds, targets)\n",
        "print(loss)"
      ]
    },
    {
      "cell_type": "markdown",
      "metadata": {
        "id": "uqB8jw9ufp9X"
      },
      "source": [
        "## Compute gradients\n",
        "\n",
        "With PyTorch, we can automatically compute the gradient or derivative of the loss w.r.t. to the weights and biases because they have `requires_grad` set to `True`. We'll see how this is useful in just a moment."
      ]
    },
    {
      "cell_type": "code",
      "execution_count": 11,
      "metadata": {
        "id": "bfZCFt4Rfp9Y"
      },
      "outputs": [],
      "source": [
        "# Compute gradients\n",
        "loss.backward()"
      ]
    },
    {
      "cell_type": "markdown",
      "metadata": {
        "id": "6tviVJW-fp9Y"
      },
      "source": [
        "The gradients are stored in the `.grad` property of the respective tensors. Note that the derivative of the loss w.r.t. the weights matrix is itself a matrix with the same dimensions."
      ]
    },
    {
      "cell_type": "code",
      "execution_count": 12,
      "metadata": {
        "colab": {
          "base_uri": "https://localhost:8080/"
        },
        "id": "XReECy54fp9Y",
        "outputId": "622aa44c-c3bc-4356-99b4-b421c287a982"
      },
      "outputs": [
        {
          "output_type": "stream",
          "name": "stdout",
          "text": [
            "tensor([[ 2.8233,  1.3696,  0.6327],\n",
            "        [ 1.4846, -2.7422, -0.0639]], requires_grad=True)\n",
            "tensor([[ 27676.6699,  27753.8867,  17592.0078],\n",
            "        [-17000.2930, -21690.0508, -12699.2344]])\n"
          ]
        }
      ],
      "source": [
        "# Gradients for weights\n",
        "print(w)\n",
        "print(w.grad)"
      ]
    },
    {
      "cell_type": "code",
      "execution_count": 13,
      "metadata": {
        "colab": {
          "base_uri": "https://localhost:8080/"
        },
        "id": "FvrNlMb8fp9Y",
        "outputId": "04f75a54-7c83-484a-c002-f1ad141e6d72"
      },
      "outputs": [
        {
          "output_type": "execute_result",
          "data": {
            "text/plain": [
              "tensor([[ 27676.6699,  27753.8867,  17592.0078],\n",
              "        [-17000.2930, -21690.0508, -12699.2344]])"
            ]
          },
          "metadata": {},
          "execution_count": 13
        }
      ],
      "source": [
        "w\n",
        "w.grad"
      ]
    },
    {
      "cell_type": "code",
      "execution_count": 14,
      "metadata": {
        "id": "h95lgX0bfp9Y"
      },
      "outputs": [],
      "source": [
        "with torch.no_grad():\n",
        "    w -= w.grad * 1e-5\n",
        "    b -= b.grad * 1e-5"
      ]
    },
    {
      "cell_type": "markdown",
      "metadata": {
        "id": "gNRezwYsfp9Y"
      },
      "source": [
        "We multiply the gradients with a very small number (`10^-5` in this case) to ensure that we don't modify the weights by a very large amount. We want to take a small step in the downhill direction of the gradient, not a giant leap. This number is called the *learning rate* of the algorithm. \n",
        "\n",
        "We use `torch.no_grad` to indicate to PyTorch that we shouldn't track, calculate, or modify gradients while updating the weights and biases."
      ]
    },
    {
      "cell_type": "code",
      "execution_count": 15,
      "metadata": {
        "colab": {
          "base_uri": "https://localhost:8080/"
        },
        "id": "h-OhHWDDfp9Y",
        "outputId": "66b8800e-a5a6-4567-f539-5d3c2904f4b7"
      },
      "outputs": [
        {
          "output_type": "stream",
          "name": "stdout",
          "text": [
            "tensor(80990.2188, grad_fn=<DivBackward0>)\n"
          ]
        }
      ],
      "source": [
        "# Let's verify that the loss is actually lower\n",
        "loss = mse(preds, targets)\n",
        "print(loss)"
      ]
    },
    {
      "cell_type": "markdown",
      "metadata": {
        "id": "di3Tup-lfp9Y"
      },
      "source": [
        "Before we proceed, we reset the gradients to zero by invoking the `.zero_()` method. We need to do this because PyTorch accumulates gradients. Otherwise, the next time we invoke `.backward` on the loss, the new gradient values are added to the existing gradients, which may lead to unexpected results."
      ]
    },
    {
      "cell_type": "code",
      "execution_count": 16,
      "metadata": {
        "colab": {
          "base_uri": "https://localhost:8080/"
        },
        "id": "RaigVVjgfp9Y",
        "outputId": "02817f4f-6ce8-49eb-a428-e202d3f83a96"
      },
      "outputs": [
        {
          "output_type": "stream",
          "name": "stdout",
          "text": [
            "tensor([[0., 0., 0.],\n",
            "        [0., 0., 0.]])\n",
            "tensor([0., 0.])\n"
          ]
        }
      ],
      "source": [
        "w.grad.zero_()\n",
        "b.grad.zero_()\n",
        "print(w.grad)\n",
        "print(b.grad)"
      ]
    },
    {
      "cell_type": "markdown",
      "metadata": {
        "id": "lV9IB42Hfp9Y"
      },
      "source": [
        "## Train the model using gradient descent\n",
        "\n",
        "As seen above, we reduce the loss and improve our model using the gradient descent optimization algorithm. Thus, we can _train_ the model using the following steps:\n",
        "\n",
        "1. Generate predictions\n",
        "\n",
        "2. Calculate the loss\n",
        "\n",
        "3. Compute gradients w.r.t the weights and biases\n",
        "\n",
        "4. Adjust the weights by subtracting a small quantity proportional to the gradient\n",
        "\n",
        "5. Reset the gradients to zero\n",
        "\n",
        "Let's implement the above step by step."
      ]
    },
    {
      "cell_type": "code",
      "execution_count": 17,
      "metadata": {
        "colab": {
          "base_uri": "https://localhost:8080/"
        },
        "id": "9fomnchifp9Y",
        "outputId": "7776eb6c-0f4e-4069-b3b7-1f49a03e8086"
      },
      "outputs": [
        {
          "output_type": "stream",
          "name": "stdout",
          "text": [
            "tensor([[ 284.4710,  -46.7547],\n",
            "        [ 362.8351,  -68.6786],\n",
            "        [ 400.1442, -191.8401],\n",
            "        [ 329.3687,   61.4591],\n",
            "        [ 318.2896, -124.9048]], grad_fn=<AddBackward0>)\n"
          ]
        }
      ],
      "source": [
        "# Generate predictions\n",
        "preds = model(inputs)\n",
        "print(preds)"
      ]
    },
    {
      "cell_type": "code",
      "execution_count": 18,
      "metadata": {
        "colab": {
          "base_uri": "https://localhost:8080/"
        },
        "id": "rkQO007Mfp9Y",
        "outputId": "a97aa2eb-d4fc-4a05-ba3b-d84c81a5b8f0"
      },
      "outputs": [
        {
          "output_type": "stream",
          "name": "stdout",
          "text": [
            "tensor(55857.1797, grad_fn=<DivBackward0>)\n"
          ]
        }
      ],
      "source": [
        "# Calculate the loss\n",
        "loss = mse(preds, targets)\n",
        "print(loss)"
      ]
    },
    {
      "cell_type": "code",
      "execution_count": 19,
      "metadata": {
        "colab": {
          "base_uri": "https://localhost:8080/"
        },
        "id": "sVr-40t2fp9Y",
        "outputId": "771eec80-7cae-4ca4-9d90-36abe3ab52ba"
      },
      "outputs": [
        {
          "output_type": "stream",
          "name": "stdout",
          "text": [
            "tensor([[ 22775.7266,  22509.6270,  14329.6172],\n",
            "        [-13563.4531, -17981.9414, -10399.3369]])\n",
            "tensor([ 261.8217, -167.1438])\n"
          ]
        }
      ],
      "source": [
        "# Compute gradients\n",
        "loss.backward()\n",
        "print(w.grad)\n",
        "print(b.grad)"
      ]
    },
    {
      "cell_type": "markdown",
      "metadata": {
        "id": "mJDZv5P2fp9Z"
      },
      "source": [
        "Let's update the weights and biases using the gradients computed above."
      ]
    },
    {
      "cell_type": "code",
      "execution_count": 20,
      "metadata": {
        "id": "7uocDvw-fp9Z"
      },
      "outputs": [],
      "source": [
        "# Adjust weights & reset gradients\n",
        "with torch.no_grad():\n",
        "    w -= w.grad * 1e-5\n",
        "    b -= b.grad * 1e-5\n",
        "    w.grad.zero_()\n",
        "    b.grad.zero_()"
      ]
    },
    {
      "cell_type": "markdown",
      "metadata": {
        "id": "PGXiJUHAfp9Z"
      },
      "source": [
        "Let's take a look at the new weights and biases."
      ]
    },
    {
      "cell_type": "code",
      "execution_count": 21,
      "metadata": {
        "colab": {
          "base_uri": "https://localhost:8080/"
        },
        "id": "qDDwXqZFfp9Z",
        "outputId": "24fe9bf2-5294-4cbb-9639-c10fe5cfe472"
      },
      "outputs": [
        {
          "output_type": "stream",
          "name": "stdout",
          "text": [
            "tensor([[ 2.3187,  0.8670,  0.3135],\n",
            "        [ 1.7903, -2.3455,  0.1671]], requires_grad=True)\n",
            "tensor([ 1.6652, -0.2493], requires_grad=True)\n"
          ]
        }
      ],
      "source": [
        "print(w)\n",
        "print(b)"
      ]
    },
    {
      "cell_type": "markdown",
      "metadata": {
        "id": "A40i5KEDfp9Z"
      },
      "source": [
        "With the new weights and biases, the model should have a lower loss."
      ]
    },
    {
      "cell_type": "code",
      "execution_count": 22,
      "metadata": {
        "colab": {
          "base_uri": "https://localhost:8080/"
        },
        "id": "bqOlGt91fp9Z",
        "outputId": "1cbd9d93-2cc7-4f83-f2ee-6bb546add62e"
      },
      "outputs": [
        {
          "output_type": "stream",
          "name": "stdout",
          "text": [
            "tensor(39082.5859, grad_fn=<DivBackward0>)\n"
          ]
        }
      ],
      "source": [
        "# Calculate loss\n",
        "preds = model(inputs)\n",
        "loss = mse(preds, targets)\n",
        "print(loss)"
      ]
    },
    {
      "cell_type": "markdown",
      "metadata": {
        "id": "RVZwORbkfp9Z"
      },
      "source": [
        "We have already achieved a significant reduction in the loss merely by adjusting the weights and biases slightly using gradient descent."
      ]
    },
    {
      "cell_type": "markdown",
      "metadata": {
        "id": "JCecKKkWfp9Z"
      },
      "source": [
        "## Train for multiple epochs\n",
        "\n",
        "To reduce the loss further, we can repeat the process of adjusting the weights and biases using the gradients multiple times. Each iteration is called an _epoch_. Let's train the model for 100 epochs."
      ]
    },
    {
      "cell_type": "code",
      "execution_count": 23,
      "metadata": {
        "id": "aAv668y-fp9Z"
      },
      "outputs": [],
      "source": [
        "# Train for 100 epochs\n",
        "for i in range(100):\n",
        "    preds = model(inputs)\n",
        "    loss = mse(preds, targets)\n",
        "    loss.backward()\n",
        "    with torch.no_grad():\n",
        "        w -= w.grad * 1e-5\n",
        "        b -= b.grad * 1e-5\n",
        "        w.grad.zero_()\n",
        "        b.grad.zero_()"
      ]
    },
    {
      "cell_type": "markdown",
      "metadata": {
        "id": "tyN0fQ-zfp9Z"
      },
      "source": [
        "Once again, let's verify that the loss is now lower:"
      ]
    },
    {
      "cell_type": "code",
      "execution_count": 24,
      "metadata": {
        "colab": {
          "base_uri": "https://localhost:8080/"
        },
        "id": "cOWYWrVHfp9Z",
        "outputId": "6049aed4-cd08-4d1c-ba8a-27a33964f5a9"
      },
      "outputs": [
        {
          "output_type": "stream",
          "name": "stdout",
          "text": [
            "tensor(1623.1674, grad_fn=<DivBackward0>)\n"
          ]
        }
      ],
      "source": [
        "# Calculate loss\n",
        "preds = model(inputs)\n",
        "loss = mse(preds, targets)\n",
        "print(loss)"
      ]
    },
    {
      "cell_type": "markdown",
      "metadata": {
        "id": "BBCk45B5fp9Z"
      },
      "source": [
        "The loss is now much lower than its initial value. Let's look at the model's predictions and compare them with the targets."
      ]
    },
    {
      "cell_type": "code",
      "execution_count": 25,
      "metadata": {
        "colab": {
          "base_uri": "https://localhost:8080/"
        },
        "id": "Ofv6HROWfp9Z",
        "outputId": "6e01f75d-cea2-409a-f2c0-5bb4c93f39e6"
      },
      "outputs": [
        {
          "output_type": "execute_result",
          "data": {
            "text/plain": [
              "tensor([[ 67.7175,  86.6552],\n",
              "        [ 83.8605, 113.4102],\n",
              "        [102.6350,  82.1479],\n",
              "        [ 75.7292, 127.5108],\n",
              "        [ 73.0631,  88.4049]], grad_fn=<AddBackward0>)"
            ]
          },
          "metadata": {},
          "execution_count": 25
        }
      ],
      "source": [
        "# Predictions\n",
        "preds"
      ]
    },
    {
      "cell_type": "code",
      "execution_count": 26,
      "metadata": {
        "colab": {
          "base_uri": "https://localhost:8080/"
        },
        "id": "7Tk-NIcRfp9Z",
        "outputId": "ebe6e882-ae09-47e9-aa85-68325f182018"
      },
      "outputs": [
        {
          "output_type": "execute_result",
          "data": {
            "text/plain": [
              "tensor([[ 57.,  71.],\n",
              "        [ 82., 102.],\n",
              "        [120., 134.],\n",
              "        [ 23.,  38.],\n",
              "        [104., 120.]])"
            ]
          },
          "metadata": {},
          "execution_count": 26
        }
      ],
      "source": [
        "# Targets\n",
        "targets"
      ]
    },
    {
      "cell_type": "markdown",
      "metadata": {
        "id": "XEX6xzRNfp9Z"
      },
      "source": [
        "The predictions are now quite close to the target variables. We can get even better results by training for a few more epochs. "
      ]
    },
    {
      "cell_type": "markdown",
      "metadata": {
        "id": "yjL5y6d3fp9a"
      },
      "source": [
        "## Linear regression using PyTorch built-ins\n",
        "\n",
        "We've implemented linear regression & gradient descent model using some basic tensor operations. However, since this is a common pattern in deep learning, PyTorch provides several built-in functions and classes to make it easy to create and train models with just a few lines of code.\n",
        "\n",
        "Let's begin by importing the `torch.nn` package from PyTorch, which contains utility classes for building neural networks."
      ]
    },
    {
      "cell_type": "code",
      "execution_count": 27,
      "metadata": {
        "id": "KmtiJDGHfp9a"
      },
      "outputs": [],
      "source": [
        "import torch.nn as nn"
      ]
    },
    {
      "cell_type": "markdown",
      "metadata": {
        "id": "g-DkXCVXfp9a"
      },
      "source": [
        "As before, we represent the inputs and targets and matrices."
      ]
    },
    {
      "cell_type": "code",
      "execution_count": 28,
      "metadata": {
        "id": "FVOfyE35fp9a"
      },
      "outputs": [],
      "source": [
        "# Input (temp, rainfall, humidity)\n",
        "inputs = np.array([[74, 68, 44], \n",
        "                   [92, 89, 65], \n",
        "                   [88, 135, 59], \n",
        "                   [103, 44, 38], \n",
        "                   [70, 97, 71], \n",
        "                   [75, 67, 44], \n",
        "                   [92, 88, 66], \n",
        "                   [89, 135, 60], \n",
        "                   [102, 45, 38], \n",
        "                   [69, 97, 72], \n",
        "                   [74, 67, 45], \n",
        "                   [93, 88, 65], \n",
        "                   [88, 136, 58], \n",
        "                   [104, 44, 37], \n",
        "                   [69, 98, 71]], \n",
        "                  dtype='float32')\n",
        "\n",
        "# Targets (bananas, pineapples)\n",
        "targets = np.array([[57, 71], \n",
        "                    [82, 102], \n",
        "                    [120, 134], \n",
        "                    [23, 38], \n",
        "                    [104, 120],\n",
        "                    [58, 60], \n",
        "                    [81, 103], \n",
        "                    [119, 133], \n",
        "                    [22, 39], \n",
        "                    [105, 119], \n",
        "                    [58, 70], \n",
        "                    [83, 101], \n",
        "                    [119, 135], \n",
        "                    [21, 39], \n",
        "                    [103, 121]], \n",
        "                   dtype='float32')\n",
        "\n",
        "inputs = torch.from_numpy(inputs)\n",
        "targets = torch.from_numpy(targets)"
      ]
    },
    {
      "cell_type": "code",
      "execution_count": 29,
      "metadata": {
        "colab": {
          "base_uri": "https://localhost:8080/"
        },
        "id": "7bszMd5Pfp9a",
        "outputId": "164282bf-3e23-4638-cca1-e15b0f414ddc"
      },
      "outputs": [
        {
          "output_type": "execute_result",
          "data": {
            "text/plain": [
              "tensor([[ 74.,  68.,  44.],\n",
              "        [ 92.,  89.,  65.],\n",
              "        [ 88., 135.,  59.],\n",
              "        [103.,  44.,  38.],\n",
              "        [ 70.,  97.,  71.],\n",
              "        [ 75.,  67.,  44.],\n",
              "        [ 92.,  88.,  66.],\n",
              "        [ 89., 135.,  60.],\n",
              "        [102.,  45.,  38.],\n",
              "        [ 69.,  97.,  72.],\n",
              "        [ 74.,  67.,  45.],\n",
              "        [ 93.,  88.,  65.],\n",
              "        [ 88., 136.,  58.],\n",
              "        [104.,  44.,  37.],\n",
              "        [ 69.,  98.,  71.]])"
            ]
          },
          "metadata": {},
          "execution_count": 29
        }
      ],
      "source": [
        "inputs"
      ]
    },
    {
      "cell_type": "markdown",
      "metadata": {
        "id": "MtUqhRG8fp9a"
      },
      "source": [
        "We are using 15 training examples to illustrate how to work with large datasets in small batches. "
      ]
    },
    {
      "cell_type": "markdown",
      "metadata": {
        "id": "TIt6olH1fp9a"
      },
      "source": [
        "## Dataset and DataLoader\n",
        "\n",
        "We'll create a `TensorDataset`, which allows access to rows from `inputs` and `targets` as tuples, and provides standard APIs for working with many different types of datasets in PyTorch."
      ]
    },
    {
      "cell_type": "code",
      "execution_count": 30,
      "metadata": {
        "id": "2ynw9gGEfp9a"
      },
      "outputs": [],
      "source": [
        "from torch.utils.data import TensorDataset"
      ]
    },
    {
      "cell_type": "code",
      "execution_count": 31,
      "metadata": {
        "colab": {
          "base_uri": "https://localhost:8080/"
        },
        "id": "VHRAS5r_fp9a",
        "outputId": "eabffa43-20a8-4f3c-b94e-39c7dca518d7"
      },
      "outputs": [
        {
          "output_type": "execute_result",
          "data": {
            "text/plain": [
              "(tensor([[ 74.,  68.,  44.],\n",
              "         [ 92.,  89.,  65.],\n",
              "         [ 88., 135.,  59.]]),\n",
              " tensor([[ 57.,  71.],\n",
              "         [ 82., 102.],\n",
              "         [120., 134.]]))"
            ]
          },
          "metadata": {},
          "execution_count": 31
        }
      ],
      "source": [
        "# Define dataset\n",
        "train_ds = TensorDataset(inputs, targets)\n",
        "train_ds[0:3]"
      ]
    },
    {
      "cell_type": "markdown",
      "metadata": {
        "id": "suH885jxfp9a"
      },
      "source": [
        "The `TensorDataset` allows us to access a small section of the training data using the array indexing notation (`[0:3]` in the above code). It returns a tuple with two elements. The first element contains the input variables for the selected rows, and the second contains the targets."
      ]
    },
    {
      "cell_type": "markdown",
      "metadata": {
        "id": "bQmV5jNkfp9a"
      },
      "source": [
        "We'll also create a `DataLoader`, which can split the data into batches of a predefined size while training. It also provides other utilities like shuffling and random sampling of the data."
      ]
    },
    {
      "cell_type": "code",
      "execution_count": 32,
      "metadata": {
        "id": "ma-6j-Q_fp9a"
      },
      "outputs": [],
      "source": [
        "from torch.utils.data import DataLoader"
      ]
    },
    {
      "cell_type": "code",
      "execution_count": 33,
      "metadata": {
        "id": "ddStEslHfp9a"
      },
      "outputs": [],
      "source": [
        "# Define data loader\n",
        "batch_size = 5\n",
        "train_dl = DataLoader(train_ds, batch_size, shuffle=True)"
      ]
    },
    {
      "cell_type": "markdown",
      "metadata": {
        "id": "yVE7VYkWfp9a"
      },
      "source": [
        "We can use the data loader in a `for` loop. Let's look at an example."
      ]
    },
    {
      "cell_type": "code",
      "execution_count": 34,
      "metadata": {
        "colab": {
          "base_uri": "https://localhost:8080/"
        },
        "id": "umLpm8ROfp9a",
        "outputId": "42d3620a-13e7-4aac-9738-e2f76cba2b7b"
      },
      "outputs": [
        {
          "output_type": "stream",
          "name": "stdout",
          "text": [
            "tensor([[ 70.,  97.,  71.],\n",
            "        [102.,  45.,  38.],\n",
            "        [ 92.,  89.,  65.],\n",
            "        [ 69.,  97.,  72.],\n",
            "        [ 74.,  67.,  45.]])\n",
            "tensor([[104., 120.],\n",
            "        [ 22.,  39.],\n",
            "        [ 82., 102.],\n",
            "        [105., 119.],\n",
            "        [ 58.,  70.]])\n"
          ]
        }
      ],
      "source": [
        "for xb, yb in train_dl:\n",
        "    print(xb)\n",
        "    print(yb)\n",
        "    break"
      ]
    },
    {
      "cell_type": "markdown",
      "metadata": {
        "id": "onx2C9yKfp9a"
      },
      "source": [
        "In each iteration, the data loader returns one batch of data with the given batch size. If `shuffle` is set to `True`, it shuffles the training data before creating batches. Shuffling helps randomize the input to the optimization algorithm, leading to a faster reduction in the loss."
      ]
    },
    {
      "cell_type": "markdown",
      "metadata": {
        "id": "zMFs3-aCfp9a"
      },
      "source": [
        "## nn.Linear\n",
        "\n",
        "Instead of initializing the weights & biases manually, we can define the model using the `nn.Linear` class from PyTorch, which does it automatically."
      ]
    },
    {
      "cell_type": "code",
      "execution_count": 35,
      "metadata": {
        "colab": {
          "base_uri": "https://localhost:8080/"
        },
        "id": "5Cn2BhLOfp9a",
        "outputId": "7372d407-4f97-4343-cada-d0e9b0965ad4"
      },
      "outputs": [
        {
          "output_type": "stream",
          "name": "stdout",
          "text": [
            "Parameter containing:\n",
            "tensor([[-0.0271, -0.0208,  0.2332],\n",
            "        [-0.0851, -0.5417,  0.1748]], requires_grad=True)\n",
            "Parameter containing:\n",
            "tensor([-0.3751,  0.2542], requires_grad=True)\n"
          ]
        }
      ],
      "source": [
        "# Define model\n",
        "model = nn.Linear(3, 2)\n",
        "print(model.weight)\n",
        "print(model.bias)"
      ]
    },
    {
      "cell_type": "markdown",
      "metadata": {
        "id": "FZZarKxqfp9a"
      },
      "source": [
        "PyTorch models also have a helpful `.parameters` method, which returns a list containing all the weights and bias matrices present in the model. For our linear regression model, we have one weight matrix and one bias matrix."
      ]
    },
    {
      "cell_type": "code",
      "execution_count": 36,
      "metadata": {
        "colab": {
          "base_uri": "https://localhost:8080/"
        },
        "id": "u2OwYDuqfp9a",
        "outputId": "651f9d27-42cb-47a8-dbb4-1eb965be2194"
      },
      "outputs": [
        {
          "output_type": "execute_result",
          "data": {
            "text/plain": [
              "[Parameter containing:\n",
              " tensor([[-0.0271, -0.0208,  0.2332],\n",
              "         [-0.0851, -0.5417,  0.1748]], requires_grad=True),\n",
              " Parameter containing:\n",
              " tensor([-0.3751,  0.2542], requires_grad=True)]"
            ]
          },
          "metadata": {},
          "execution_count": 36
        }
      ],
      "source": [
        "# Parameters\n",
        "list(model.parameters())"
      ]
    },
    {
      "cell_type": "markdown",
      "metadata": {
        "id": "wIu5piNUfp9a"
      },
      "source": [
        "We can use the model to generate predictions in the same way as before."
      ]
    },
    {
      "cell_type": "code",
      "execution_count": 37,
      "metadata": {
        "colab": {
          "base_uri": "https://localhost:8080/"
        },
        "id": "1JJHis42fp9a",
        "outputId": "9a3f9b0c-b03c-454b-babc-6efc626b3c0a"
      },
      "outputs": [
        {
          "output_type": "execute_result",
          "data": {
            "text/plain": [
              "tensor([[  6.4647, -35.1897],\n",
              "        [ 10.4371, -44.4272],\n",
              "        [  8.1892, -70.0557],\n",
              "        [  4.7785, -25.7040],\n",
              "        [ 12.2664, -45.8406],\n",
              "        [  6.4584, -34.7330],\n",
              "        [ 10.6911, -43.7107],\n",
              "        [  8.3953, -69.9660],\n",
              "        [  4.7848, -26.1607],\n",
              "        [ 12.5267, -45.5807],\n",
              "        [  6.7187, -34.4732],\n",
              "        [ 10.4308, -43.9706],\n",
              "        [  7.9352, -70.7722],\n",
              "        [  4.5181, -25.9639],\n",
              "        [ 12.2727, -46.2973]], grad_fn=<AddmmBackward0>)"
            ]
          },
          "metadata": {},
          "execution_count": 37
        }
      ],
      "source": [
        "# Generate predictions\n",
        "preds = model(inputs)\n",
        "preds"
      ]
    },
    {
      "cell_type": "markdown",
      "metadata": {
        "id": "NTzXW4Txfp9b"
      },
      "source": [
        "## Loss Function\n",
        "\n",
        "Instead of defining a loss function manually, we can use the built-in loss function `mse_loss`."
      ]
    },
    {
      "cell_type": "code",
      "execution_count": 38,
      "metadata": {
        "id": "lqh9bww_fp9b"
      },
      "outputs": [],
      "source": [
        "# Import nn.functional\n",
        "import torch.nn.functional as F"
      ]
    },
    {
      "cell_type": "markdown",
      "metadata": {
        "id": "fZnOT4rtfp9b"
      },
      "source": [
        "The `nn.functional` package contains many useful loss functions and several other utilities. "
      ]
    },
    {
      "cell_type": "code",
      "execution_count": 39,
      "metadata": {
        "id": "ne2F0knVfp9b"
      },
      "outputs": [],
      "source": [
        "# Define loss function\n",
        "loss_fn = F.mse_loss"
      ]
    },
    {
      "cell_type": "markdown",
      "metadata": {
        "id": "O1cfU1WYfp9b"
      },
      "source": [
        "Let's compute the loss for the current predictions of our model."
      ]
    },
    {
      "cell_type": "code",
      "execution_count": 40,
      "metadata": {
        "colab": {
          "base_uri": "https://localhost:8080/"
        },
        "id": "9D_lXaKufp9b",
        "outputId": "d303c107-b770-4130-c8c0-2fcd6ebf2971"
      },
      "outputs": [
        {
          "output_type": "stream",
          "name": "stdout",
          "text": [
            "tensor(13392.1602, grad_fn=<MseLossBackward0>)\n"
          ]
        }
      ],
      "source": [
        "loss = loss_fn(model(inputs), targets)\n",
        "print(loss)"
      ]
    },
    {
      "cell_type": "markdown",
      "metadata": {
        "id": "yFi5An5dfp9b"
      },
      "source": [
        "## Optimizer\n",
        "\n",
        "Instead of manually manipulating the model's weights & biases using gradients, we can use the optimizer `optim.SGD`. SGD is short for \"stochastic gradient descent\". The term _stochastic_ indicates that samples are selected in random batches instead of as a single group."
      ]
    },
    {
      "cell_type": "code",
      "execution_count": 41,
      "metadata": {
        "id": "zJ1nFIiPfp9b"
      },
      "outputs": [],
      "source": [
        "# Define optimizer\n",
        "opt = torch.optim.SGD(model.parameters(), lr=1e-5)"
      ]
    },
    {
      "cell_type": "markdown",
      "metadata": {
        "id": "hzzGvbUXfp9b"
      },
      "source": [
        "Note that `model.parameters()` is passed as an argument to `optim.SGD` so that the optimizer knows which matrices should be modified during the update step. Also, we can specify a learning rate that controls the amount by which the parameters are modified."
      ]
    },
    {
      "cell_type": "markdown",
      "metadata": {
        "id": "SQReENMNfp9b"
      },
      "source": [
        "## Train the model\n",
        "\n",
        "We are now ready to train the model. We'll follow the same process to implement gradient descent:\n",
        "\n",
        "1. Generate predictions\n",
        "\n",
        "2. Calculate the loss\n",
        "\n",
        "3. Compute gradients w.r.t the weights and biases\n",
        "\n",
        "4. Adjust the weights by subtracting a small quantity proportional to the gradient\n",
        "\n",
        "5. Reset the gradients to zero\n",
        "\n",
        "The only change is that we'll work batches of data instead of processing the entire training data in every iteration. Let's define a utility function `fit` that trains the model for a given number of epochs."
      ]
    },
    {
      "cell_type": "code",
      "execution_count": 42,
      "metadata": {
        "id": "Q4DFSiTjfp9b"
      },
      "outputs": [],
      "source": [
        "# Utility function to train the model\n",
        "def fit(num_epochs, model, loss_fn, opt, train_dl):\n",
        "    \n",
        "    # Repeat for given number of epochs\n",
        "    for epoch in range(num_epochs):\n",
        "        \n",
        "        # Train with batches of data\n",
        "        for xb,yb in train_dl:\n",
        "            \n",
        "            # 1. Generate predictions\n",
        "            pred = model(xb)\n",
        "            \n",
        "            # 2. Calculate loss\n",
        "            loss = loss_fn(pred, yb)\n",
        "            \n",
        "            # 3. Compute gradients\n",
        "            loss.backward()\n",
        "            \n",
        "            # 4. Update parameters using gradients\n",
        "            opt.step()\n",
        "            \n",
        "            # 5. Reset the gradients to zero\n",
        "            opt.zero_grad()\n",
        "        \n",
        "        # Print the progress\n",
        "        if (epoch+1) % 10 == 0:\n",
        "            print('Epoch [{}/{}], Loss: {:.4f}'.format(epoch+1, num_epochs, loss.item()))"
      ]
    },
    {
      "cell_type": "markdown",
      "metadata": {
        "id": "TUzHTu1Xfp9b"
      },
      "source": [
        "Some things to note above:\n",
        "\n",
        "* We use the data loader defined earlier to get batches of data for every iteration.\n",
        "\n",
        "* Instead of updating parameters (weights and biases) manually, we use `opt.step` to perform the update and `opt.zero_grad` to reset the gradients to zero.\n",
        "\n",
        "* We've also added a log statement that prints the loss from the last batch of data for every 10th epoch to track training progress. `loss.item` returns the actual value stored in the loss tensor.\n",
        "\n",
        "Let's train the model for 100 epochs."
      ]
    },
    {
      "cell_type": "code",
      "execution_count": 43,
      "metadata": {
        "colab": {
          "base_uri": "https://localhost:8080/"
        },
        "id": "xffapP60fp9b",
        "outputId": "9af88653-a972-4743-c7ed-dca4ac668397"
      },
      "outputs": [
        {
          "output_type": "stream",
          "name": "stdout",
          "text": [
            "Epoch [10/100], Loss: 460.5307\n",
            "Epoch [20/100], Loss: 290.8167\n",
            "Epoch [30/100], Loss: 195.8732\n",
            "Epoch [40/100], Loss: 97.5310\n",
            "Epoch [50/100], Loss: 144.2615\n",
            "Epoch [60/100], Loss: 40.3986\n",
            "Epoch [70/100], Loss: 65.4215\n",
            "Epoch [80/100], Loss: 23.4482\n",
            "Epoch [90/100], Loss: 21.7577\n",
            "Epoch [100/100], Loss: 22.4213\n"
          ]
        }
      ],
      "source": [
        "fit(100, model, loss_fn, opt, train_dl)"
      ]
    },
    {
      "cell_type": "markdown",
      "metadata": {
        "id": "G5YRYMZYfp9b"
      },
      "source": [
        "Let's generate predictions using our model and verify that they're close to our targets."
      ]
    },
    {
      "cell_type": "code",
      "execution_count": 44,
      "metadata": {
        "colab": {
          "base_uri": "https://localhost:8080/"
        },
        "id": "GO8TgF8Vfp9b",
        "outputId": "6df25d19-49bf-475e-bbaa-c7701b764562"
      },
      "outputs": [
        {
          "output_type": "execute_result",
          "data": {
            "text/plain": [
              "tensor([[ 59.0172,  72.3908],\n",
              "        [ 82.8583, 100.8345],\n",
              "        [117.9581, 131.5566],\n",
              "        [ 28.1313,  45.6078],\n",
              "        [ 98.8120, 114.5554],\n",
              "        [ 57.9282,  71.4896],\n",
              "        [ 82.6068, 100.8175],\n",
              "        [118.2418, 132.1391],\n",
              "        [ 29.2204,  46.5090],\n",
              "        [ 99.6496, 115.4395],\n",
              "        [ 58.7658,  72.3737],\n",
              "        [ 81.7692,  99.9333],\n",
              "        [118.2096, 131.5737],\n",
              "        [ 27.2938,  44.7237],\n",
              "        [ 99.9011, 115.4566]], grad_fn=<AddmmBackward0>)"
            ]
          },
          "metadata": {},
          "execution_count": 44
        }
      ],
      "source": [
        "# Generate predictions\n",
        "preds = model(inputs)\n",
        "preds"
      ]
    },
    {
      "cell_type": "code",
      "execution_count": 45,
      "metadata": {
        "colab": {
          "base_uri": "https://localhost:8080/"
        },
        "id": "wuY4Zb91fp9b",
        "outputId": "ba1210b6-042f-4e2b-f4c0-76d4990e7fad"
      },
      "outputs": [
        {
          "output_type": "execute_result",
          "data": {
            "text/plain": [
              "tensor([[ 57.,  71.],\n",
              "        [ 82., 102.],\n",
              "        [120., 134.],\n",
              "        [ 23.,  38.],\n",
              "        [104., 120.],\n",
              "        [ 58.,  60.],\n",
              "        [ 81., 103.],\n",
              "        [119., 133.],\n",
              "        [ 22.,  39.],\n",
              "        [105., 119.],\n",
              "        [ 58.,  70.],\n",
              "        [ 83., 101.],\n",
              "        [119., 135.],\n",
              "        [ 21.,  39.],\n",
              "        [103., 121.]])"
            ]
          },
          "metadata": {},
          "execution_count": 45
        }
      ],
      "source": [
        "# Compare with targets\n",
        "targets"
      ]
    },
    {
      "cell_type": "markdown",
      "metadata": {
        "id": "EygPXwmufp9b"
      },
      "source": [
        "Indeed, the predictions are quite close to our targets. We have a trained a reasonably good model to predict crop yields for bananas and pineapples by looking at the average temperature, rainfall, and humidity in a region. We can use it to make predictions of crop yields for new regions by passing a batch containing a single row of input."
      ]
    },
    {
      "cell_type": "code",
      "execution_count": 46,
      "metadata": {
        "colab": {
          "base_uri": "https://localhost:8080/"
        },
        "id": "9gaYUviVfp9b",
        "outputId": "370b26a0-89a2-413a-90d5-cfd41ac361a7"
      },
      "outputs": [
        {
          "output_type": "execute_result",
          "data": {
            "text/plain": [
              "tensor([[54.6799, 68.4880]], grad_fn=<AddmmBackward0>)"
            ]
          },
          "metadata": {},
          "execution_count": 46
        }
      ],
      "source": [
        "model(torch.tensor([[75, 63, 44.]]))"
      ]
    },
    {
      "cell_type": "code",
      "source": [],
      "metadata": {
        "id": "m2vK-YO9Aok2"
      },
      "execution_count": null,
      "outputs": []
    }
  ],
  "metadata": {
    "kernelspec": {
      "display_name": "Python 3",
      "language": "python",
      "name": "python3"
    },
    "language_info": {
      "codemirror_mode": {
        "name": "ipython",
        "version": 3
      },
      "file_extension": ".py",
      "mimetype": "text/x-python",
      "name": "python",
      "nbconvert_exporter": "python",
      "pygments_lexer": "ipython3",
      "version": "3.8.5"
    },
    "colab": {
      "provenance": [],
      "include_colab_link": true
    }
  },
  "nbformat": 4,
  "nbformat_minor": 0
}